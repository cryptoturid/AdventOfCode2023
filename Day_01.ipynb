{
 "cells": [
  {
   "cell_type": "code",
   "execution_count": 1,
   "id": "4db779ed-3399-4107-af69-22cfbce0773f",
   "metadata": {},
   "outputs": [
    {
     "name": "stdout",
     "output_type": "stream",
     "text": [
      "Hello, World!\n"
     ]
    }
   ],
   "source": [
    "print(\"Hello, World!\")"
   ]
  },
  {
   "cell_type": "code",
   "execution_count": 11,
   "id": "b0537131-98c8-42ed-accc-8f2dd0a7a061",
   "metadata": {},
   "outputs": [],
   "source": [
    "f = open(\"Day_01_input.txt\")\n",
    "sum = 0\n",
    "for line in f:\n",
    "    digits = []\n",
    "    for char in line:\n",
    "        if char.isdigit():\n",
    "            digits.append(char)\n",
    "    sum += int(digits[0] + digits[-1])"
   ]
  },
  {
   "cell_type": "code",
   "execution_count": 12,
   "id": "ab608b34-917a-4db2-8d08-b57026d066fe",
   "metadata": {},
   "outputs": [
    {
     "data": {
      "text/plain": [
       "55123"
      ]
     },
     "execution_count": 12,
     "metadata": {},
     "output_type": "execute_result"
    }
   ],
   "source": [
    "# Part 1 solution\n",
    "sum"
   ]
  },
  {
   "cell_type": "code",
   "execution_count": 31,
   "id": "3899d330-e53b-4e17-a30e-c123f6409346",
   "metadata": {},
   "outputs": [],
   "source": [
    "toDigits = {'one':1, 'two':2, 'three':3, 'four':4, 'five':5, 'six':6, 'seven':7, 'eight':8, 'nine':9, \n",
    "            '0':0, '1':1, '2':2, '3':3, '4':4, '5':5, '6':6, '7':7, '8':8, '9':9}\n",
    "f = open(\"Day_01_input.txt\")\n",
    "sum = 0\n",
    "for line in f:\n",
    "    digits = []\n",
    "    while line:\n",
    "        for key in toDigits.keys():\n",
    "            if line.startswith(key):\n",
    "                digits.append(toDigits[key])\n",
    "        line = line[1:]\n",
    "    sum += digits[0] * 10 + digits[-1]"
   ]
  },
  {
   "cell_type": "code",
   "execution_count": 32,
   "id": "34944a26-a3bc-4ba3-af03-0f1ac0ad0038",
   "metadata": {},
   "outputs": [
    {
     "data": {
      "text/plain": [
       "55260"
      ]
     },
     "execution_count": 32,
     "metadata": {},
     "output_type": "execute_result"
    }
   ],
   "source": [
    "# Part 2 solution\n",
    "sum"
   ]
  },
  {
   "cell_type": "code",
   "execution_count": null,
   "id": "cffb1e8c-9f45-4481-bc14-1b63a5fa2959",
   "metadata": {},
   "outputs": [],
   "source": []
  }
 ],
 "metadata": {
  "kernelspec": {
   "display_name": "Python 3",
   "language": "python",
   "name": "python3"
  },
  "language_info": {
   "codemirror_mode": {
    "name": "ipython",
    "version": 3
   },
   "file_extension": ".py",
   "mimetype": "text/x-python",
   "name": "python",
   "nbconvert_exporter": "python",
   "pygments_lexer": "ipython3",
   "version": "3.11.6"
  }
 },
 "nbformat": 4,
 "nbformat_minor": 5
}
