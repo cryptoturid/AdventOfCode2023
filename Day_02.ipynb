{
 "cells": [
  {
   "cell_type": "code",
   "execution_count": 63,
   "id": "0f1d4d6e-8d8d-4373-a29d-8e30b99d2f8a",
   "metadata": {},
   "outputs": [
    {
     "data": {
      "text/plain": [
       "2810"
      ]
     },
     "execution_count": 63,
     "metadata": {},
     "output_type": "execute_result"
    }
   ],
   "source": [
    "# Part 1 solution\n",
    "f = open(\"Day_02_input.txt\")\n",
    "sum = 0\n",
    "for line in f:\n",
    "    line = line.split(':')\n",
    "    if parseGame1(line[1], 12, 13, 14):\n",
    "        sum += int(line[0].lstrip('Game '))\n",
    "sum"
   ]
  },
  {
   "cell_type": "code",
   "execution_count": 35,
   "id": "c12735e3-f845-4431-b6d1-13a8898e0d7c",
   "metadata": {},
   "outputs": [],
   "source": [
    "def parseGame1(line, max_red, max_green, max_blue):\n",
    "    line = line.split(';')\n",
    "    for item in line:\n",
    "        item = item.split(',')\n",
    "        for entry in item:\n",
    "            entry = entry.strip().split(' ')\n",
    "            if (entry[1] == 'blue' and int(entry[0]) > max_blue):\n",
    "                return False\n",
    "            if (entry[1] == 'red' and int(entry[0]) > max_red):\n",
    "                return False\n",
    "            if (entry[1] == 'green' and int(entry[0]) > max_green):\n",
    "                return False\n",
    "    return True"
   ]
  },
  {
   "cell_type": "code",
   "execution_count": 59,
   "id": "2387d8db-5ec2-4c51-92d5-850dbeb15a92",
   "metadata": {},
   "outputs": [],
   "source": [
    "def parseGame2(line):\n",
    "    max_red = 0\n",
    "    max_green = 0\n",
    "    max_blue = 0\n",
    "    line = line.split(';')\n",
    "    for item in line:\n",
    "        item = item.split(',')\n",
    "        for entry in item:\n",
    "            entry = entry.strip().split(' ')\n",
    "            if (entry[1] == 'blue' and int(entry[0]) > max_blue):\n",
    "                max_blue = int(entry[0])\n",
    "            if (entry[1] == 'red' and int(entry[0]) > max_red):\n",
    "                max_red = int(entry[0])\n",
    "            if (entry[1] == 'green' and int(entry[0]) > max_green):\n",
    "                max_green = int(entry[0])\n",
    "    return max_blue * max_red * max_green"
   ]
  },
  {
   "cell_type": "code",
   "execution_count": 66,
   "id": "e3b339fb-b145-40b9-a21a-9db9da4514ff",
   "metadata": {},
   "outputs": [
    {
     "data": {
      "text/plain": [
       "69110"
      ]
     },
     "execution_count": 66,
     "metadata": {},
     "output_type": "execute_result"
    }
   ],
   "source": [
    "# Part 2 solution\n",
    "f = open(\"Day_02_input.txt\")\n",
    "sum = 0\n",
    "for line in f:\n",
    "    line = line.split(':')\n",
    "    sum += parseGame2(line[1])\n",
    "sum"
   ]
  },
  {
   "cell_type": "code",
   "execution_count": null,
   "id": "35ff73b9-71de-4695-be73-7c350315277a",
   "metadata": {},
   "outputs": [],
   "source": []
  }
 ],
 "metadata": {
  "kernelspec": {
   "display_name": "Python 3",
   "language": "python",
   "name": "python3"
  },
  "language_info": {
   "codemirror_mode": {
    "name": "ipython",
    "version": 3
   },
   "file_extension": ".py",
   "mimetype": "text/x-python",
   "name": "python",
   "nbconvert_exporter": "python",
   "pygments_lexer": "ipython3",
   "version": "3.11.6"
  }
 },
 "nbformat": 4,
 "nbformat_minor": 5
}
