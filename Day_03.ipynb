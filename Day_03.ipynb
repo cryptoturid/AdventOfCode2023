{
 "cells": [
  {
   "cell_type": "code",
   "execution_count": 69,
   "id": "9948ab2f-2b73-472a-b9e0-74a6d6a81d4c",
   "metadata": {},
   "outputs": [
    {
     "data": {
      "text/plain": [
       "498559"
      ]
     },
     "execution_count": 69,
     "metadata": {},
     "output_type": "execute_result"
    }
   ],
   "source": [
    "f = open('Day_03_input.txt')\n",
    "\n",
    "lines = [line.rstrip() for line in f]\n",
    "\n",
    "# Part 1 solution\n",
    "symbols = []\n",
    "symbolpos = []\n",
    "i = 0\n",
    "for line in lines:\n",
    "    j = 0\n",
    "    for char in line:\n",
    "        if char.isdigit() == False and char != '.':\n",
    "            symbols.append(char)\n",
    "            symbolpos.append((i,j))\n",
    "        j += 1\n",
    "    i += 1\n",
    "sum = 0\n",
    "positions = []\n",
    "adjacentNumbers = []\n",
    "for pos in symbolpos:\n",
    "    # print(symbolpos.index(pos))\n",
    "    numberList = []\n",
    "    x = pos[0] - 1\n",
    "    while x <= pos[0] + 1:\n",
    "        y = pos[1] - 1\n",
    "        while y <= pos[1] + 1:\n",
    "            if (lines[x][y]).isdigit():\n",
    "                number, position = getNumber((x,y))\n",
    "                if position not in positions:\n",
    "                    positions.append(position)\n",
    "                    numberList.append(number)\n",
    "                    sum += number\n",
    "            y += 1\n",
    "        x += 1\n",
    "    adjacentNumbers.append(numberList)\n",
    "# Part 1 answer\n",
    "sum  "
   ]
  },
  {
   "cell_type": "code",
   "execution_count": 70,
   "id": "2a645d29-8691-4392-a99f-592632faec34",
   "metadata": {},
   "outputs": [],
   "source": [
    "def getNumber(pos):\n",
    "    px, py = pos\n",
    "    number = lines[px][py]\n",
    "    i = 1\n",
    "    while lines[px][py - i].isdigit():\n",
    "        number = lines[px][py - i] + number\n",
    "        i += 1\n",
    "    numPos = (px, py - i + 1)\n",
    "    i = 1\n",
    "    while py + i < len(lines[px]) and lines[px][py + i].isdigit():\n",
    "        number = number + lines[px][py + i]\n",
    "        i += 1\n",
    "    return (int(number), numPos)"
   ]
  },
  {
   "cell_type": "code",
   "execution_count": 71,
   "id": "7b2e1677-669d-4d99-ad90-d987946b1062",
   "metadata": {},
   "outputs": [
    {
     "data": {
      "text/plain": [
       "72246648"
      ]
     },
     "execution_count": 71,
     "metadata": {},
     "output_type": "execute_result"
    }
   ],
   "source": [
    "# Part 2 solution\n",
    "sum = 0\n",
    "for i in range(len(symbols)):\n",
    "    if symbols[i] == '*' and len(adjacentNumbers[i]) == 2: \n",
    "        sum += adjacentNumbers[i][0] * adjacentNumbers[i][1]\n",
    "sum        "
   ]
  },
  {
   "cell_type": "code",
   "execution_count": null,
   "id": "3fe64710-7991-4a3e-853d-8a850e9409e3",
   "metadata": {},
   "outputs": [],
   "source": []
  }
 ],
 "metadata": {
  "kernelspec": {
   "display_name": "Python 3",
   "language": "python",
   "name": "python3"
  },
  "language_info": {
   "codemirror_mode": {
    "name": "ipython",
    "version": 3
   },
   "file_extension": ".py",
   "mimetype": "text/x-python",
   "name": "python",
   "nbconvert_exporter": "python",
   "pygments_lexer": "ipython3",
   "version": "3.11.6"
  }
 },
 "nbformat": 4,
 "nbformat_minor": 5
}
